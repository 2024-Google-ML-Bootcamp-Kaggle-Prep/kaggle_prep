{
 "cells": [
  {
   "cell_type": "markdown",
   "id": "af76a609",
   "metadata": {},
   "source": [
    "## 기본 데이터 전처리"
   ]
  },
  {
   "cell_type": "code",
   "execution_count": 1,
   "id": "09d4af1c",
   "metadata": {},
   "outputs": [],
   "source": [
    "import numpy as np\n",
    "import pandas as pd\n",
    "import matplotlib.pyplot as plt\n",
    "import seaborn as sns\n",
    "import warnings\n",
    "warnings.filterwarnings('ignore')\n",
    "from sklearn.preprocessing import StandardScaler\n",
    "from sklearn.preprocessing import MinMaxScaler\n",
    "from sklearn.model_selection import train_test_split, cross_val_score, GridSearchCV\n",
    "from sklearn.svm import SVC\n",
    "from sklearn.ensemble import GradientBoostingClassifier, RandomForestClassifier\n",
    "from sklearn.linear_model import SGDClassifier\n",
    "from sklearn.neighbors import KNeighborsClassifier\n",
    "from sklearn.tree import DecisionTreeClassifier\n",
    "from sklearn.metrics import roc_curve, auc\n",
    "from tqdm import tqdm"
   ]
  },
  {
   "cell_type": "code",
   "execution_count": 2,
   "id": "c940aec1",
   "metadata": {},
   "outputs": [],
   "source": [
    "train = pd.read_csv('train.csv')"
   ]
  },
  {
   "cell_type": "code",
   "execution_count": 3,
   "id": "823eff27",
   "metadata": {},
   "outputs": [],
   "source": [
    "# id 열 삭제\n",
    "train = train.drop(['id'], axis = 1)"
   ]
  },
  {
   "cell_type": "code",
   "execution_count": 4,
   "id": "3ab963cc",
   "metadata": {},
   "outputs": [],
   "source": [
    "# gender, vehicle_age, vehicle_damage 데이터 타입 변경\n",
    "train['Gender'] = train['Gender'].map({'Male': 0, 'Female': 1})\n",
    "train['Vehicle_Age'] = train['Vehicle_Age'].map({'1-2 Year' : 1, '> 2 Years' : 2, '< 1 Year' : 0})\n",
    "train['Vehicle_Damage'] = train['Vehicle_Damage'].map({'Yes': 1, 'No': 0})"
   ]
  },
  {
   "cell_type": "code",
   "execution_count": 5,
   "id": "c0fb3aa9",
   "metadata": {},
   "outputs": [],
   "source": [
    "# Age 범주형 변경\n",
    "\n",
    "# 구간 설정\n",
    "bins = [20, 25, 30, 35, 40, 45, 50, 55, 60, 65, 70, 75, 80, float('inf')]\n",
    "\n",
    "# 각 구간에 대한 라벨 설정\n",
    "labels = ['0', '1', '2', '3', '4', '5', '6', '7', '8', '9', '10', '11', '12']\n",
    "\n",
    "# Age 열을 범주형 변수로 변환\n",
    "train['AgeGroup'] = pd.cut(train['Age'], bins=bins, labels=labels, right=False)"
   ]
  },
  {
   "cell_type": "code",
   "execution_count": 6,
   "id": "9328cb4e",
   "metadata": {},
   "outputs": [],
   "source": [
    "# Age 열 삭제\n",
    "train = train.drop(['Age'], axis = 1)"
   ]
  },
  {
   "cell_type": "code",
   "execution_count": 7,
   "id": "a3dcab83",
   "metadata": {
    "scrolled": true
   },
   "outputs": [
    {
     "data": {
      "text/html": [
       "<div>\n",
       "<style scoped>\n",
       "    .dataframe tbody tr th:only-of-type {\n",
       "        vertical-align: middle;\n",
       "    }\n",
       "\n",
       "    .dataframe tbody tr th {\n",
       "        vertical-align: top;\n",
       "    }\n",
       "\n",
       "    .dataframe thead th {\n",
       "        text-align: right;\n",
       "    }\n",
       "</style>\n",
       "<table border=\"1\" class=\"dataframe\">\n",
       "  <thead>\n",
       "    <tr style=\"text-align: right;\">\n",
       "      <th></th>\n",
       "      <th>Gender</th>\n",
       "      <th>Driving_License</th>\n",
       "      <th>Region_Code</th>\n",
       "      <th>Previously_Insured</th>\n",
       "      <th>Vehicle_Age</th>\n",
       "      <th>Vehicle_Damage</th>\n",
       "      <th>Annual_Premium</th>\n",
       "      <th>Policy_Sales_Channel</th>\n",
       "      <th>Vintage</th>\n",
       "      <th>Response</th>\n",
       "      <th>AgeGroup</th>\n",
       "    </tr>\n",
       "  </thead>\n",
       "  <tbody>\n",
       "    <tr>\n",
       "      <th>0</th>\n",
       "      <td>0</td>\n",
       "      <td>1</td>\n",
       "      <td>0.673077</td>\n",
       "      <td>0</td>\n",
       "      <td>1</td>\n",
       "      <td>1</td>\n",
       "      <td>0.116218</td>\n",
       "      <td>0.759259</td>\n",
       "      <td>0.612457</td>\n",
       "      <td>0</td>\n",
       "      <td>0</td>\n",
       "    </tr>\n",
       "    <tr>\n",
       "      <th>1</th>\n",
       "      <td>0</td>\n",
       "      <td>1</td>\n",
       "      <td>0.538462</td>\n",
       "      <td>0</td>\n",
       "      <td>2</td>\n",
       "      <td>1</td>\n",
       "      <td>0.104702</td>\n",
       "      <td>0.154321</td>\n",
       "      <td>0.961938</td>\n",
       "      <td>1</td>\n",
       "      <td>4</td>\n",
       "    </tr>\n",
       "    <tr>\n",
       "      <th>2</th>\n",
       "      <td>1</td>\n",
       "      <td>1</td>\n",
       "      <td>0.269231</td>\n",
       "      <td>1</td>\n",
       "      <td>0</td>\n",
       "      <td>0</td>\n",
       "      <td>0.065880</td>\n",
       "      <td>0.932099</td>\n",
       "      <td>0.844291</td>\n",
       "      <td>0</td>\n",
       "      <td>1</td>\n",
       "    </tr>\n",
       "    <tr>\n",
       "      <th>3</th>\n",
       "      <td>1</td>\n",
       "      <td>1</td>\n",
       "      <td>0.019231</td>\n",
       "      <td>0</td>\n",
       "      <td>1</td>\n",
       "      <td>1</td>\n",
       "      <td>0.000000</td>\n",
       "      <td>0.956790</td>\n",
       "      <td>0.228374</td>\n",
       "      <td>0</td>\n",
       "      <td>3</td>\n",
       "    </tr>\n",
       "    <tr>\n",
       "      <th>4</th>\n",
       "      <td>1</td>\n",
       "      <td>1</td>\n",
       "      <td>0.288462</td>\n",
       "      <td>1</td>\n",
       "      <td>1</td>\n",
       "      <td>0</td>\n",
       "      <td>0.054547</td>\n",
       "      <td>0.932099</td>\n",
       "      <td>0.982699</td>\n",
       "      <td>0</td>\n",
       "      <td>3</td>\n",
       "    </tr>\n",
       "  </tbody>\n",
       "</table>\n",
       "</div>"
      ],
      "text/plain": [
       "   Gender  Driving_License  Region_Code  Previously_Insured  Vehicle_Age  \\\n",
       "0       0                1     0.673077                   0            1   \n",
       "1       0                1     0.538462                   0            2   \n",
       "2       1                1     0.269231                   1            0   \n",
       "3       1                1     0.019231                   0            1   \n",
       "4       1                1     0.288462                   1            1   \n",
       "\n",
       "   Vehicle_Damage  Annual_Premium  Policy_Sales_Channel   Vintage  Response  \\\n",
       "0               1        0.116218              0.759259  0.612457         0   \n",
       "1               1        0.104702              0.154321  0.961938         1   \n",
       "2               0        0.065880              0.932099  0.844291         0   \n",
       "3               1        0.000000              0.956790  0.228374         0   \n",
       "4               0        0.054547              0.932099  0.982699         0   \n",
       "\n",
       "  AgeGroup  \n",
       "0        0  \n",
       "1        4  \n",
       "2        1  \n",
       "3        3  \n",
       "4        3  "
      ]
     },
     "execution_count": 7,
     "metadata": {},
     "output_type": "execute_result"
    }
   ],
   "source": [
    "# 수치형 변수 minmaxscaler\n",
    "numerical = ['Region_Code', 'Annual_Premium', 'Policy_Sales_Channel', 'Vintage']\n",
    "scaler = MinMaxScaler()\n",
    "train[numerical] = scaler.fit_transform(train[numerical])\n",
    "train.head()"
   ]
  },
  {
   "cell_type": "code",
   "execution_count": 8,
   "id": "0d04dc4e",
   "metadata": {},
   "outputs": [
    {
     "data": {
      "image/png": "[encoded data removed]",
      "text/plain": [
       "<Figure size 1000x600 with 1 Axes>"
      ]
     },
     "metadata": {},
     "output_type": "display_data"
    }
   ],
   "source": [
    "# Annual_Premium 박스플롯\n",
    "plt.figure(figsize=(10, 6))\n",
    "sns.boxplot(x=train['Annual_Premium'])\n",
    "plt.title('Box Plot of Annual Premium')\n",
    "plt.xlabel('Annual Premium')\n",
    "plt.show()"
   ]
  },
  {
   "cell_type": "markdown",
   "id": "e9e64b66",
   "metadata": {},
   "source": [
    "## 이상치 데이터 제거"
   ]
  },
  {
   "cell_type": "code",
   "execution_count": 9,
   "id": "5f9de87f",
   "metadata": {},
   "outputs": [
    {
     "data": {
      "text/plain": [
       "(9127525, 11)"
      ]
     },
     "execution_count": 9,
     "metadata": {},
     "output_type": "execute_result"
    }
   ],
   "source": [
    "# IQR을 이용하여 이상치 제거\n",
    "Q1 = train['Annual_Premium'].quantile(0.25)\n",
    "Q3 = train['Annual_Premium'].quantile(0.75)\n",
    "IQR = Q3 - Q1\n",
    "\n",
    "lower_bound = Q1 - 1.5 * IQR\n",
    "upper_bound = Q3 + 1.5 * IQR\n",
    "\n",
    "# 이상치가 있는 행 제거\n",
    "deleted_train = train[(train['Annual_Premium'] >= lower_bound) & (train['Annual_Premium'] <= upper_bound)]\n",
    "\n",
    "deleted_train.shape"
   ]
  },
  {
   "cell_type": "code",
   "execution_count": 15,
   "id": "889dcf16",
   "metadata": {},
   "outputs": [],
   "source": [
    "df = deleted_train"
   ]
  },
  {
   "cell_type": "code",
   "execution_count": 16,
   "id": "b94cc49b",
   "metadata": {},
   "outputs": [],
   "source": [
    "# X, y 데이터\n",
    "X = df.drop('Response', axis = 1)\n",
    "y = df['Response']"
   ]
  },
  {
   "cell_type": "code",
   "execution_count": 17,
   "id": "f2b76a4e",
   "metadata": {},
   "outputs": [],
   "source": [
    "# 데이터 분할\n",
    "X_train, X_test, y_train, y_test = train_test_split(X, y, test_size=0.2, random_state=42)"
   ]
  },
  {
   "cell_type": "code",
   "execution_count": null,
   "id": "87f2f2af",
   "metadata": {},
   "outputs": [],
   "source": [
    "# 데이터 표준화 (standardscaler)\n",
    "# scaler = StandardScaler()\n",
    "# X_train = scaler.fit_transform(X_train)\n",
    "# X_test = scaler.transform(X_test)"
   ]
  },
  {
   "cell_type": "code",
   "execution_count": 18,
   "id": "e6f13cf6",
   "metadata": {},
   "outputs": [],
   "source": [
    "# 데이터 표준화 (minmaxscaler)\n",
    "scaler = MinMaxScaler()\n",
    "X_train = scaler.fit_transform(X_train)\n",
    "X_test = scaler.transform(X_test)"
   ]
  }
 ],
 "metadata": {
  "kernelspec": {
   "display_name": "Python 3 (ipykernel)",
   "language": "python",
   "name": "python3"
  },
  "language_info": {
   "codemirror_mode": {
    "name": "ipython",
    "version": 3
   },
   "file_extension": ".py",
   "mimetype": "text/x-python",
   "name": "python",
   "nbconvert_exporter": "python",
   "pygments_lexer": "ipython3",
   "version": "3.11.7"
  }
 },
 "nbformat": 4,
 "nbformat_minor": 5
}
