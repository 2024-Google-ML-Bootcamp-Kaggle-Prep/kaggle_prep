{
 "cells": [
  {
   "cell_type": "code",
   "execution_count": 1,
   "id": "673805f1",
   "metadata": {
    "_cell_guid": "b1076dfc-b9ad-4769-8c92-a6c4dae69d19",
    "_uuid": "8f2839f25d086af736a60e9eeb907d3b93b6e0e5",
    "execution": {
     "iopub.execute_input": "2024-07-22T09:52:19.470453Z",
     "iopub.status.busy": "2024-07-22T09:52:19.470110Z",
     "iopub.status.idle": "2024-07-22T09:52:20.244955Z",
     "shell.execute_reply": "2024-07-22T09:52:20.244000Z"
    },
    "papermill": {
     "duration": 0.783594,
     "end_time": "2024-07-22T09:52:20.247415",
     "exception": false,
     "start_time": "2024-07-22T09:52:19.463821",
     "status": "completed"
    },
    "tags": []
   },
   "outputs": [
    {
     "name": "stdout",
     "output_type": "stream",
     "text": [
      "/kaggle/input/k/yeonseokcho/binary-classification-of-insurance-cross-selling/__results__.html\n",
      "/kaggle/input/k/yeonseokcho/binary-classification-of-insurance-cross-selling/submission.csv\n",
      "/kaggle/input/k/yeonseokcho/binary-classification-of-insurance-cross-selling/__notebook__.ipynb\n",
      "/kaggle/input/k/yeonseokcho/binary-classification-of-insurance-cross-selling/__output__.json\n",
      "/kaggle/input/k/yeonseokcho/binary-classification-of-insurance-cross-selling/custom.css\n",
      "/kaggle/input/k/yeonseokcho/binary-classification-of-insurance-cross-selling/__results___files/__results___14_0.png\n",
      "/kaggle/input/k/yeonseokcho/binary-classification-of-insurance-cross-selling/__results___files/__results___49_0.png\n",
      "/kaggle/input/k/yeonseokcho/binary-classification-of-insurance-cross-selling/__results___files/__results___32_0.png\n",
      "/kaggle/input/k/yeonseokcho/binary-classification-of-insurance-cross-selling/catboost_info/learn_error.tsv\n",
      "/kaggle/input/k/yeonseokcho/binary-classification-of-insurance-cross-selling/catboost_info/catboost_training.json\n",
      "/kaggle/input/k/yeonseokcho/binary-classification-of-insurance-cross-selling/catboost_info/time_left.tsv\n",
      "/kaggle/input/k/yeonseokcho/binary-classification-of-insurance-cross-selling/catboost_info/learn/events.out.tfevents\n",
      "/kaggle/input/playground-series-s4e7/sample_submission.csv\n",
      "/kaggle/input/playground-series-s4e7/train.csv\n",
      "/kaggle/input/playground-series-s4e7/test.csv\n",
      "/kaggle/input/ps4e7-classification-generalization/__results__.html\n",
      "/kaggle/input/ps4e7-classification-generalization/submission.csv\n",
      "/kaggle/input/ps4e7-classification-generalization/__notebook__.ipynb\n",
      "/kaggle/input/ps4e7-classification-generalization/__output__.json\n",
      "/kaggle/input/ps4e7-classification-generalization/custom.css\n",
      "/kaggle/input/binary-classification-of-insurance-cross-selling/__results__.html\n",
      "/kaggle/input/binary-classification-of-insurance-cross-selling/submission.csv\n",
      "/kaggle/input/binary-classification-of-insurance-cross-selling/__notebook__.ipynb\n",
      "/kaggle/input/binary-classification-of-insurance-cross-selling/__output__.json\n",
      "/kaggle/input/binary-classification-of-insurance-cross-selling/custom.css\n",
      "/kaggle/input/binary-classification-of-insurance-cross-selling/__results___files/__results___23_0.png\n",
      "/kaggle/input/insurance-binary-classification/__results__.html\n",
      "/kaggle/input/insurance-binary-classification/submission.csv\n",
      "/kaggle/input/insurance-binary-classification/__notebook__.ipynb\n",
      "/kaggle/input/insurance-binary-classification/__output__.json\n",
      "/kaggle/input/insurance-binary-classification/custom.css\n",
      "/kaggle/input/stacking-xgb-lgbm-catb-ann/submission.parquet\n",
      "/kaggle/input/stacking-xgb-lgbm-catb-ann/__results__.html\n",
      "/kaggle/input/stacking-xgb-lgbm-catb-ann/oof_predictions.parquet\n",
      "/kaggle/input/stacking-xgb-lgbm-catb-ann/test_predictions.parquet\n",
      "/kaggle/input/stacking-xgb-lgbm-catb-ann/__notebook__.ipynb\n",
      "/kaggle/input/stacking-xgb-lgbm-catb-ann/__output__.json\n",
      "/kaggle/input/stacking-xgb-lgbm-catb-ann/custom.css\n",
      "/kaggle/input/stacking-xgb-lgbm-catb-ann/__results___files/__results___10_0.png\n",
      "/kaggle/input/stacking-xgb-lgbm-catb-ann/__results___files/__results___16_0.png\n",
      "/kaggle/input/stacking-xgb-lgbm-catb-ann/__results___files/__results___17_0.png\n",
      "/kaggle/input/stacking-xgb-lgbm-catb-ann/__results___files/__results___42_0.png\n",
      "/kaggle/input/stacking-xgb-lgbm-catb-ann/catboost_info/test_error.tsv\n",
      "/kaggle/input/stacking-xgb-lgbm-catb-ann/catboost_info/learn_error.tsv\n",
      "/kaggle/input/stacking-xgb-lgbm-catb-ann/catboost_info/catboost_training.json\n",
      "/kaggle/input/stacking-xgb-lgbm-catb-ann/catboost_info/time_left.tsv\n",
      "/kaggle/input/stacking-xgb-lgbm-catb-ann/catboost_info/learn/events.out.tfevents\n",
      "/kaggle/input/stacking-xgb-lgbm-catb-ann/catboost_info/test/events.out.tfevents\n",
      "/kaggle/input/playgrounds4e07-eda-baseline-v1/__results__.html\n",
      "/kaggle/input/playgrounds4e07-eda-baseline-v1/__notebook__.ipynb\n",
      "/kaggle/input/playgrounds4e07-eda-baseline-v1/__output__.json\n",
      "/kaggle/input/playgrounds4e07-eda-baseline-v1/submission_V2.csv\n",
      "/kaggle/input/playgrounds4e07-eda-baseline-v1/custom.css\n",
      "/kaggle/input/playgrounds4e07-eda-baseline-v1/__results___files/__results___26_1.png\n",
      "/kaggle/input/playgrounds4e07-eda-baseline-v1/__results___files/__results___19_0.png\n",
      "/kaggle/input/playgrounds4e07-eda-baseline-v1/__results___files/__results___22_0.png\n",
      "/kaggle/input/playgrounds4e07-eda-baseline-v1/__results___files/__results___19_5.png\n",
      "/kaggle/input/playgrounds4e07-eda-baseline-v1/__results___files/__results___27_1.png\n",
      "/kaggle/input/playgrounds4e07-eda-baseline-v1/__results___files/__results___19_2.png\n",
      "/kaggle/input/playgrounds4e07-eda-baseline-v1/__results___files/__results___21_3.png\n",
      "/kaggle/input/playgrounds4e07-eda-baseline-v1/__results___files/__results___29_0.png\n",
      "/kaggle/input/playgrounds4e07-eda-baseline-v1/__results___files/__results___21_1.png\n"
     ]
    }
   ],
   "source": [
    "# This Python 3 environment comes with many helpful analytics libraries installed\n",
    "# It is defined by the kaggle/python Docker image: https://github.com/kaggle/docker-python\n",
    "# For example, here's several helpful packages to load\n",
    "\n",
    "import numpy as np # linear algebra\n",
    "import pandas as pd # data processing, CSV file I/O (e.g. pd.read_csv)\n",
    "\n",
    "# Input data files are available in the read-only \"../input/\" directory\n",
    "# For example, running this (by clicking run or pressing Shift+Enter) will list all files under the input directory\n",
    "\n",
    "import os\n",
    "for dirname, _, filenames in os.walk('/kaggle/input'):\n",
    "    for filename in filenames:\n",
    "        print(os.path.join(dirname, filename))\n",
    "\n",
    "# You can write up to 20GB to the current directory (/kaggle/working/) that gets preserved as output when you create a version using \"Save & Run All\" \n",
    "# You can also write temporary files to /kaggle/temp/, but they won't be saved outside of the current session"
   ]
  },
  {
   "cell_type": "code",
   "execution_count": 2,
   "id": "48e81471",
   "metadata": {
    "execution": {
     "iopub.execute_input": "2024-07-22T09:52:20.258244Z",
     "iopub.status.busy": "2024-07-22T09:52:20.257831Z",
     "iopub.status.idle": "2024-07-22T09:52:21.879728Z",
     "shell.execute_reply": "2024-07-22T09:52:21.878722Z"
    },
    "papermill": {
     "duration": 1.629839,
     "end_time": "2024-07-22T09:52:21.882184",
     "exception": false,
     "start_time": "2024-07-22T09:52:20.252345",
     "status": "completed"
    },
    "tags": []
   },
   "outputs": [],
   "source": [
    "import numpy as np\n",
    "import pandas as pd\n",
    "import matplotlib.pyplot as plt\n",
    "import seaborn as sns\n",
    "import warnings\n",
    "import gc\n",
    "\n",
    "warnings.filterwarnings(\"ignore\")\n",
    "\n",
    "from sklearn.feature_selection import mutual_info_classif\n",
    "from sklearn.model_selection import train_test_split, StratifiedKFold\n",
    "from sklearn.metrics import roc_auc_score, roc_curve, confusion_matrix, ConfusionMatrixDisplay, classification_report\n",
    "\n",
    "\n",
    "import catboost as cb\n"
   ]
  },
  {
   "cell_type": "code",
   "execution_count": 3,
   "id": "17f228c4",
   "metadata": {
    "execution": {
     "iopub.execute_input": "2024-07-22T09:52:21.893503Z",
     "iopub.status.busy": "2024-07-22T09:52:21.892836Z",
     "iopub.status.idle": "2024-07-22T09:52:33.952865Z",
     "shell.execute_reply": "2024-07-22T09:52:33.952063Z"
    },
    "papermill": {
     "duration": 12.068179,
     "end_time": "2024-07-22T09:52:33.955300",
     "exception": false,
     "start_time": "2024-07-22T09:52:21.887121",
     "status": "completed"
    },
    "tags": []
   },
   "outputs": [],
   "source": [
    "train = pd.read_csv(\"/kaggle/input/playground-series-s4e7/train.csv\", index_col = \"id\", engine=\"pyarrow\")\n",
    "test = pd.read_csv(\"/kaggle/input/playground-series-s4e7/test.csv\", index_col = \"id\", engine=\"pyarrow\")"
   ]
  },
  {
   "cell_type": "code",
   "execution_count": 4,
   "id": "3dcc232f",
   "metadata": {
    "execution": {
     "iopub.execute_input": "2024-07-22T09:52:33.967530Z",
     "iopub.status.busy": "2024-07-22T09:52:33.967243Z",
     "iopub.status.idle": "2024-07-22T09:52:34.078747Z",
     "shell.execute_reply": "2024-07-22T09:52:34.077951Z"
    },
    "papermill": {
     "duration": 0.119911,
     "end_time": "2024-07-22T09:52:34.081598",
     "exception": false,
     "start_time": "2024-07-22T09:52:33.961687",
     "status": "completed"
    },
    "tags": []
   },
   "outputs": [],
   "source": [
    "train[\"Region_Code\"] = train[\"Region_Code\"].astype(np.int8)\n",
    "test[\"Region_Code\"] = test[\"Region_Code\"].astype(np.int8)\n",
    "\n",
    "train[\"Policy_Sales_Channel\"] = train[\"Policy_Sales_Channel\"].astype(np.int16)\n",
    "test[\"Policy_Sales_Channel\"] = test[\"Policy_Sales_Channel\"].astype(np.int16)"
   ]
  },
  {
   "cell_type": "code",
   "execution_count": 5,
   "id": "e103136f",
   "metadata": {
    "execution": {
     "iopub.execute_input": "2024-07-22T09:52:34.092117Z",
     "iopub.status.busy": "2024-07-22T09:52:34.091790Z",
     "iopub.status.idle": "2024-07-22T09:52:34.095865Z",
     "shell.execute_reply": "2024-07-22T09:52:34.095041Z"
    },
    "papermill": {
     "duration": 0.011316,
     "end_time": "2024-07-22T09:52:34.097712",
     "exception": false,
     "start_time": "2024-07-22T09:52:34.086396",
     "status": "completed"
    },
    "tags": []
   },
   "outputs": [],
   "source": [
    "target=\"Response\""
   ]
  },
  {
   "cell_type": "code",
   "execution_count": 6,
   "id": "cf01b853",
   "metadata": {
    "execution": {
     "iopub.execute_input": "2024-07-22T09:52:34.107801Z",
     "iopub.status.busy": "2024-07-22T09:52:34.107550Z",
     "iopub.status.idle": "2024-07-22T09:52:34.777701Z",
     "shell.execute_reply": "2024-07-22T09:52:34.776570Z"
    },
    "papermill": {
     "duration": 0.678469,
     "end_time": "2024-07-22T09:52:34.780641",
     "exception": false,
     "start_time": "2024-07-22T09:52:34.102172",
     "status": "completed"
    },
    "tags": []
   },
   "outputs": [],
   "source": [
    "X = train.drop(target, axis=1)\n",
    "y = train[target]"
   ]
  },
  {
   "cell_type": "code",
   "execution_count": 7,
   "id": "c4d50eca",
   "metadata": {
    "execution": {
     "iopub.execute_input": "2024-07-22T09:52:34.791692Z",
     "iopub.status.busy": "2024-07-22T09:52:34.791383Z",
     "iopub.status.idle": "2024-07-22T09:52:34.795753Z",
     "shell.execute_reply": "2024-07-22T09:52:34.794880Z"
    },
    "papermill": {
     "duration": 0.012105,
     "end_time": "2024-07-22T09:52:34.797772",
     "exception": false,
     "start_time": "2024-07-22T09:52:34.785667",
     "status": "completed"
    },
    "tags": []
   },
   "outputs": [],
   "source": [
    "skfold = StratifiedKFold(2, shuffle=True, random_state=42)"
   ]
  },
  {
   "cell_type": "code",
   "execution_count": 8,
   "id": "0138bf75",
   "metadata": {
    "execution": {
     "iopub.execute_input": "2024-07-22T09:52:34.807868Z",
     "iopub.status.busy": "2024-07-22T09:52:34.807607Z",
     "iopub.status.idle": "2024-07-22T09:52:34.812811Z",
     "shell.execute_reply": "2024-07-22T09:52:34.811933Z"
    },
    "papermill": {
     "duration": 0.012421,
     "end_time": "2024-07-22T09:52:34.814682",
     "exception": false,
     "start_time": "2024-07-22T09:52:34.802261",
     "status": "completed"
    },
    "tags": []
   },
   "outputs": [],
   "source": [
    "cat_params = {\n",
    "    'loss_function': 'Logloss',\n",
    "    'eval_metric': 'AUC',\n",
    "    'class_names': [0, 1],\n",
    "    'learning_rate': 0.075,\n",
    "    'iterations': 3000,\n",
    "    'depth': 9,\n",
    "    'random_strength': 0,\n",
    "    'l2_leaf_reg': 0.5,\n",
    "    'max_leaves': 512,\n",
    "    'fold_permutation_block': 64,\n",
    "    'task_type': 'GPU',\n",
    "    'random_seed': 42,\n",
    "    'verbose': False,\n",
    "    'allow_writing_files': False\n",
    "}"
   ]
  },
  {
   "cell_type": "code",
   "execution_count": 9,
   "id": "a0504705",
   "metadata": {
    "execution": {
     "iopub.execute_input": "2024-07-22T09:52:34.824819Z",
     "iopub.status.busy": "2024-07-22T09:52:34.824529Z",
     "iopub.status.idle": "2024-07-22T10:30:59.132127Z",
     "shell.execute_reply": "2024-07-22T10:30:59.131040Z"
    },
    "papermill": {
     "duration": 2304.320636,
     "end_time": "2024-07-22T10:30:59.139868",
     "exception": false,
     "start_time": "2024-07-22T09:52:34.819232",
     "status": "completed"
    },
    "tags": []
   },
   "outputs": [
    {
     "name": "stderr",
     "output_type": "stream",
     "text": [
      "Default metric period is 5 because AUC is/are not implemented for GPU\n"
     ]
    },
    {
     "name": "stdout",
     "output_type": "stream",
     "text": [
      "0:\ttest: 0.8743704\tbest: 0.8743704 (0)\ttotal: 9.37s\tremaining: 7h 48m 13s\n",
      "500:\ttest: 0.8927564\tbest: 0.8927564 (500)\ttotal: 4m 56s\tremaining: 24m 39s\n",
      "1000:\ttest: 0.8931053\tbest: 0.8931053 (1000)\ttotal: 9m 20s\tremaining: 18m 39s\n",
      "1500:\ttest: 0.8931711\tbest: 0.8931732 (1480)\ttotal: 13m 44s\tremaining: 13m 43s\n",
      "bestTest = 0.8931781948\n",
      "bestIteration = 1736\n",
      "Shrink model to first 1737 iterations.\n",
      "\n",
      "---- Fold 0: ROC-AUC Score: 0.893178\n",
      "\n"
     ]
    },
    {
     "name": "stderr",
     "output_type": "stream",
     "text": [
      "Default metric period is 5 because AUC is/are not implemented for GPU\n"
     ]
    },
    {
     "name": "stdout",
     "output_type": "stream",
     "text": [
      "0:\ttest: 0.8744778\tbest: 0.8744778 (0)\ttotal: 815ms\tremaining: 40m 42s\n",
      "500:\ttest: 0.8930506\tbest: 0.8930506 (500)\ttotal: 4m 48s\tremaining: 23m 58s\n",
      "1000:\ttest: 0.8933772\tbest: 0.8933778 (999)\ttotal: 9m 10s\tremaining: 18m 18s\n",
      "1500:\ttest: 0.8934450\tbest: 0.8934451 (1496)\ttotal: 13m 30s\tremaining: 13m 29s\n",
      "bestTest = 0.8934463859\n",
      "bestIteration = 1522\n",
      "Shrink model to first 1523 iterations.\n",
      "\n",
      "---- Fold 1: ROC-AUC Score: 0.893446\n",
      "\n",
      "\n",
      "---> ROC-AUC Score: 0.893312 ± 0.000134\n",
      "\n"
     ]
    }
   ],
   "source": [
    "oof_preds = []\n",
    "oof_aucs = []\n",
    "\n",
    "test_pool = cb.Pool(test.astype(str), cat_features=X.columns.values)\n",
    "\n",
    "for fold, (train_idx, test_idx) in enumerate(skfold.split(X, y)):\n",
    "    X_train, y_train = X.iloc[train_idx], y[train_idx]\n",
    "    X_test, y_test = X.iloc[test_idx], y[test_idx]\n",
    "    \n",
    "    X_train_pool = cb.Pool(X_train.astype(str), y_train, cat_features=X.columns.values)\n",
    "    X_test_pool = cb.Pool(X_test.astype(str), y_test, cat_features=X.columns.values)\n",
    "    \n",
    "    cat_clf = cb.CatBoostClassifier(**cat_params)\n",
    "    cat_clf = cat_clf.fit(X=X_train_pool,\n",
    "                          eval_set=X_test_pool,\n",
    "                          verbose=500,\n",
    "                          early_stopping_rounds=200)\n",
    "    \n",
    "    test_pred = cat_clf.predict_proba(test_pool)[:, 1]\n",
    "    \n",
    "    oof_preds.append(test_pred)\n",
    "    auc = cat_clf.best_score_['validation']['AUC']\n",
    "    oof_aucs.append(auc)\n",
    "    print(f\"\\n---- Fold {fold}: ROC-AUC Score: {auc:.6f}\\n\")\n",
    "    \n",
    "    del X_train, y_train, X_test, y_test\n",
    "    del X_train_pool, X_test_pool\n",
    "    del cat_clf\n",
    "    gc.collect()\n",
    "\n",
    "auc_mean = np.mean(oof_aucs)\n",
    "auc_std = np.std(oof_aucs)\n",
    "print(f\"\\n---> ROC-AUC Score: {auc_mean:.6f} \\xB1 {auc_std:.6f}\\n\")\n",
    "\n",
    "test_pred_cat = np.mean(oof_preds, axis=0)"
   ]
  },
  {
   "cell_type": "code",
   "execution_count": 10,
   "id": "0941d268",
   "metadata": {
    "execution": {
     "iopub.execute_input": "2024-07-22T10:30:59.152984Z",
     "iopub.status.busy": "2024-07-22T10:30:59.152676Z",
     "iopub.status.idle": "2024-07-22T10:31:06.524450Z",
     "shell.execute_reply": "2024-07-22T10:31:06.523467Z"
    },
    "papermill": {
     "duration": 7.380961,
     "end_time": "2024-07-22T10:31:06.526862",
     "exception": false,
     "start_time": "2024-07-22T10:30:59.145901",
     "status": "completed"
    },
    "tags": []
   },
   "outputs": [],
   "source": [
    "ext1 = pd.read_csv(\"/kaggle/input/ps4e7-classification-generalization/submission.csv\",\n",
    "                   engine=\"pyarrow\")[target].ravel()\n",
    "\n",
    "ext2 = pd.read_parquet(\"/kaggle/input/stacking-xgb-lgbm-catb-ann/submission.parquet\")[target].ravel()\n",
    "\n",
    "ext3 = pd.read_csv(\"/kaggle/input/insurance-binary-classification/submission.csv\",\n",
    "                   engine=\"pyarrow\")[target].ravel()"
   ]
  },
  {
   "cell_type": "code",
   "execution_count": 11,
   "id": "cba6426b",
   "metadata": {
    "execution": {
     "iopub.execute_input": "2024-07-22T10:31:06.539539Z",
     "iopub.status.busy": "2024-07-22T10:31:06.539250Z",
     "iopub.status.idle": "2024-07-22T10:31:06.860948Z",
     "shell.execute_reply": "2024-07-22T10:31:06.860149Z"
    },
    "papermill": {
     "duration": 0.330943,
     "end_time": "2024-07-22T10:31:06.863656",
     "exception": false,
     "start_time": "2024-07-22T10:31:06.532713",
     "status": "completed"
    },
    "tags": []
   },
   "outputs": [],
   "source": [
    "sub = pd.DataFrame({\n",
    "    'id': test.index,\n",
    "    'Response': np.average([ext1, ext2, ext3, test_pred_cat], axis=0, weights=[20, 15, 10, 1])\n",
    "})"
   ]
  },
  {
   "cell_type": "code",
   "execution_count": 12,
   "id": "d16c1e57",
   "metadata": {
    "execution": {
     "iopub.execute_input": "2024-07-22T10:31:06.876388Z",
     "iopub.status.busy": "2024-07-22T10:31:06.876108Z",
     "iopub.status.idle": "2024-07-22T10:31:29.023936Z",
     "shell.execute_reply": "2024-07-22T10:31:29.023136Z"
    },
    "papermill": {
     "duration": 22.156851,
     "end_time": "2024-07-22T10:31:29.026329",
     "exception": false,
     "start_time": "2024-07-22T10:31:06.869478",
     "status": "completed"
    },
    "tags": []
   },
   "outputs": [],
   "source": [
    "sub.to_csv(\"submission.csv\", index=False)"
   ]
  },
  {
   "cell_type": "code",
   "execution_count": null,
   "id": "4e488469",
   "metadata": {
    "papermill": {
     "duration": 0.005398,
     "end_time": "2024-07-22T10:31:29.037689",
     "exception": false,
     "start_time": "2024-07-22T10:31:29.032291",
     "status": "completed"
    },
    "tags": []
   },
   "outputs": [],
   "source": []
  }
 ],
 "metadata": {
  "kaggle": {
   "accelerator": "gpu",
   "dataSources": [
    {
     "databundleVersionId": 8930475,
     "sourceId": 73291,
     "sourceType": "competition"
    },
    {
     "sourceId": 188585469,
     "sourceType": "kernelVersion"
    },
    {
     "sourceId": 188503842,
     "sourceType": "kernelVersion"
    },
    {
     "sourceId": 187987391,
     "sourceType": "kernelVersion"
    },
    {
     "sourceId": 188541976,
     "sourceType": "kernelVersion"
    },
    {
     "sourceId": 186824337,
     "sourceType": "kernelVersion"
    },
    {
     "sourceId": 188640912,
     "sourceType": "kernelVersion"
    }
   ],
   "dockerImageVersionId": 30747,
   "isGpuEnabled": true,
   "isInternetEnabled": true,
   "language": "python",
   "sourceType": "notebook"
  },
  "kernelspec": {
   "display_name": "Python 3",
   "language": "python",
   "name": "python3"
  },
  "language_info": {
   "codemirror_mode": {
    "name": "ipython",
    "version": 3
   },
   "file_extension": ".py",
   "mimetype": "text/x-python",
   "name": "python",
   "nbconvert_exporter": "python",
   "pygments_lexer": "ipython3",
   "version": "3.10.13"
  },
  "papermill": {
   "default_parameters": {},
   "duration": 2353.465113,
   "end_time": "2024-07-22T10:31:30.268581",
   "environment_variables": {},
   "exception": null,
   "input_path": "__notebook__.ipynb",
   "output_path": "__notebook__.ipynb",
   "parameters": {},
   "start_time": "2024-07-22T09:52:16.803468",
   "version": "2.5.0"
  }
 },
 "nbformat": 4,
 "nbformat_minor": 5
}
