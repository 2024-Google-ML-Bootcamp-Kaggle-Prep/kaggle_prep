{
 "cells": [
  {
   "cell_type": "code",
   "execution_count": null,
   "id": "635c4658",
   "metadata": {},
   "outputs": [],
   "source": [
    "# !pip install optuna-integration"
   ]
  },
  {
   "cell_type": "code",
   "execution_count": null,
   "id": "d5b5bfde",
   "metadata": {},
   "outputs": [],
   "source": [
    "import numpy as np\n",
    "import pandas as pd\n",
    "import matplotlib.pyplot as plt\n",
    "import seaborn as sns\n",
    "import warnings\n",
    "warnings.filterwarnings('ignore')\n",
    "from sklearn.preprocessing import StandardScaler\n",
    "from sklearn.preprocessing import MinMaxScaler\n",
    "from sklearn.preprocessing import LabelEncoder\n",
    "from sklearn.model_selection import train_test_split, cross_val_score, GridSearchCV\n",
    "from sklearn.svm import SVC\n",
    "from sklearn.ensemble import GradientBoostingClassifier\n",
    "from catboost import CatBoostClassifier\n",
    "from xgboost import XGBClassifier\n",
    "from lightgbm import LGBMClassifier\n",
    "from sklearn.metrics import roc_curve, auc, roc_auc_score\n",
    "from tqdm import tqdm\n",
    "import xgboost as xgb\n",
    "import optuna\n",
    "from optuna import Trial\n",
    "from optuna.logging import set_verbosity, INFO\n",
    "from optuna.integration import XGBoostPruningCallback"
   ]
  },
  {
   "cell_type": "code",
   "execution_count": null,
   "id": "46f0bcfe",
   "metadata": {},
   "outputs": [],
   "source": [
    "train = pd.read_csv('train.csv')"
   ]
  },
  {
   "cell_type": "code",
   "execution_count": null,
   "id": "af1f43dd",
   "metadata": {},
   "outputs": [],
   "source": [
    "# id 열 삭제\n",
    "train = train.drop(['id'], axis = 1)"
   ]
  },
  {
   "cell_type": "code",
   "execution_count": null,
   "id": "0375a487",
   "metadata": {},
   "outputs": [],
   "source": [
    "# gender, vehicle_age, vehicle_damage 데이터 타입 변경 -> 라벨인코더로 통일\n",
    "label_encoder = LabelEncoder()\n",
    "cat=['Gender', 'Vehicle_Age', 'Vehicle_Damage']\n",
    "for column in cat:\n",
    "    train[column] = label_encoder.fit_transform(train[column])"
   ]
  },
  {
   "cell_type": "code",
   "execution_count": null,
   "id": "f1e70e4c",
   "metadata": {},
   "outputs": [],
   "source": [
    "numerical = ['Region_Code', 'Annual_Premium', 'Policy_Sales_Channel', 'Vintage', 'Age']\n",
    "scaler = MinMaxScaler()\n",
    "train[numerical] = scaler.fit_transform(train[numerical])\n",
    "train.head()"
   ]
  },
  {
   "cell_type": "code",
   "execution_count": null,
   "id": "c3a139a6",
   "metadata": {},
   "outputs": [],
   "source": [
    "df = train\n",
    "\n",
    "# X, y 데이터\n",
    "X = df.drop('Response', axis = 1)\n",
    "y = df['Response']"
   ]
  },
  {
   "cell_type": "code",
   "execution_count": null,
   "id": "80416b18",
   "metadata": {},
   "outputs": [],
   "source": [
    "# 데이터 분할\n",
    "X_train, X_test, y_train, y_test = train_test_split(X, y, test_size=0.2, random_state=42)"
   ]
  },
  {
   "cell_type": "code",
   "execution_count": null,
   "id": "dc576a10",
   "metadata": {},
   "outputs": [],
   "source": [
    "# 데이터 표준화 (minmaxscaler)\n",
    "scaler = MinMaxScaler()\n",
    "X_train = scaler.fit_transform(X_train)\n",
    "X_test = scaler.transform(X_test)"
   ]
  },
  {
   "cell_type": "code",
   "execution_count": null,
   "id": "b806ddc9",
   "metadata": {},
   "outputs": [],
   "source": [
    "set_verbosity(INFO)\n",
    "\n",
    "def objective(trial):\n",
    "    param = {\n",
    "        'iterations': trial.suggest_int('iterations', 100, 1000),\n",
    "        'depth': trial.suggest_int('depth', 4, 10),\n",
    "        'learning_rate': trial.suggest_float('learning_rate', 0.01, 0.3),\n",
    "        'l2_leaf_reg': trial.suggest_float('l2_leaf_reg', 1e-5, 10),\n",
    "        'border_count': trial.suggest_int('border_count', 32, 255),\n",
    "        'bagging_temperature': trial.suggest_float('bagging_temperature', 0.0, 1.0),\n",
    "        'random_strength': trial.suggest_float('random_strength', 0.0, 10.0),\n",
    "        'od_type': trial.suggest_categorical('od_type', ['IncToDec', 'Iter']),\n",
    "        'od_wait': trial.suggest_int('od_wait', 10, 50)\n",
    "    }\n",
    "\n",
    "    cat_model = CatBoostClassifier(**param, loss_function='Logloss', eval_metric='AUC', random_seed=0, logging_level='Silent')\n",
    "    cat_model.fit(X_train, y_train, eval_set=(X_test, y_test), early_stopping_rounds=50)\n",
    "\n",
    "    y_pred = cat_model.predict_proba(X_test)[:, 1]\n",
    "    roc_auc = roc_auc_score(y_test, y_pred)\n",
    "    \n",
    "    return roc_auc\n",
    "\n",
    "# 진행 상황을 출력하는 콜백 함수 정의\n",
    "def logging_callback(study, trial):\n",
    "    print(f\"Trial {trial.number} finished with value: {trial.value} and parameters: {trial.params}\")\n",
    "\n",
    "# Optuna 스터디 생성 및 최적화\n",
    "study = optuna.create_study(direction='maximize')\n",
    "study.optimize(objective, n_trials=50, callbacks=[logging_callback])\n",
    "\n",
    "# 최적의 결과 출력\n",
    "print(\"Best trial:\")\n",
    "trial = study.best_trial\n",
    "\n",
    "print(\"  Value: \", trial.value)\n",
    "print(\"  Params: \")\n",
    "for key, value in trial.params.items():\n",
    "    print(f\"    {key}: {value}\")"
   ]
  }
 ],
 "metadata": {
  "kernelspec": {
   "display_name": "Python 3 (ipykernel)",
   "language": "python",
   "name": "python3"
  },
  "language_info": {
   "codemirror_mode": {
    "name": "ipython",
    "version": 3
   },
   "file_extension": ".py",
   "mimetype": "text/x-python",
   "name": "python",
   "nbconvert_exporter": "python",
   "pygments_lexer": "ipython3",
   "version": "3.11.7"
  }
 },
 "nbformat": 4,
 "nbformat_minor": 5
}
