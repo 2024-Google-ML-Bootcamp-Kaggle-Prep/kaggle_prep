{
 "cells": [
  {
   "cell_type": "code",
   "execution_count": 1,
   "id": "efc9a0fc",
   "metadata": {
    "execution": {
     "iopub.execute_input": "2024-07-22T15:14:21.369681Z",
     "iopub.status.busy": "2024-07-22T15:14:21.369352Z",
     "iopub.status.idle": "2024-07-22T15:14:37.298632Z",
     "shell.execute_reply": "2024-07-22T15:14:37.297534Z"
    },
    "papermill": {
     "duration": 15.939122,
     "end_time": "2024-07-22T15:14:37.301106",
     "exception": false,
     "start_time": "2024-07-22T15:14:21.361984",
     "status": "completed"
    },
    "tags": []
   },
   "outputs": [
    {
     "name": "stdout",
     "output_type": "stream",
     "text": [
      "Collecting optuna-integration\r\n",
      "  Downloading optuna_integration-3.6.0-py3-none-any.whl.metadata (10 kB)\r\n",
      "Requirement already satisfied: optuna in /opt/conda/lib/python3.10/site-packages (from optuna-integration) (3.6.1)\r\n",
      "Requirement already satisfied: alembic>=1.5.0 in /opt/conda/lib/python3.10/site-packages (from optuna->optuna-integration) (1.13.2)\r\n",
      "Requirement already satisfied: colorlog in /opt/conda/lib/python3.10/site-packages (from optuna->optuna-integration) (6.8.2)\r\n",
      "Requirement already satisfied: numpy in /opt/conda/lib/python3.10/site-packages (from optuna->optuna-integration) (1.26.4)\r\n",
      "Requirement already satisfied: packaging>=20.0 in /opt/conda/lib/python3.10/site-packages (from optuna->optuna-integration) (21.3)\r\n",
      "Requirement already satisfied: sqlalchemy>=1.3.0 in /opt/conda/lib/python3.10/site-packages (from optuna->optuna-integration) (2.0.25)\r\n",
      "Requirement already satisfied: tqdm in /opt/conda/lib/python3.10/site-packages (from optuna->optuna-integration) (4.66.4)\r\n",
      "Requirement already satisfied: PyYAML in /opt/conda/lib/python3.10/site-packages (from optuna->optuna-integration) (6.0.1)\r\n",
      "Requirement already satisfied: Mako in /opt/conda/lib/python3.10/site-packages (from alembic>=1.5.0->optuna->optuna-integration) (1.3.5)\r\n",
      "Requirement already satisfied: typing-extensions>=4 in /opt/conda/lib/python3.10/site-packages (from alembic>=1.5.0->optuna->optuna-integration) (4.9.0)\r\n",
      "Requirement already satisfied: pyparsing!=3.0.5,>=2.0.2 in /opt/conda/lib/python3.10/site-packages (from packaging>=20.0->optuna->optuna-integration) (3.1.1)\r\n",
      "Requirement already satisfied: greenlet!=0.4.17 in /opt/conda/lib/python3.10/site-packages (from sqlalchemy>=1.3.0->optuna->optuna-integration) (3.0.3)\r\n",
      "Requirement already satisfied: MarkupSafe>=0.9.2 in /opt/conda/lib/python3.10/site-packages (from Mako->alembic>=1.5.0->optuna->optuna-integration) (2.1.3)\r\n",
      "Downloading optuna_integration-3.6.0-py3-none-any.whl (93 kB)\r\n",
      "\u001b[2K   \u001b[90m━━━━━━━━━━━━━━━━━━━━━━━━━━━━━━━━━━━━━━━━\u001b[0m \u001b[32m93.4/93.4 kB\u001b[0m \u001b[31m897.0 kB/s\u001b[0m eta \u001b[36m0:00:00\u001b[0m\r\n",
      "\u001b[?25hInstalling collected packages: optuna-integration\r\n",
      "Successfully installed optuna-integration-3.6.0\r\n"
     ]
    }
   ],
   "source": [
    "!pip install optuna-integration"
   ]
  },
  {
   "cell_type": "code",
   "execution_count": 2,
   "id": "9c6a5ed2",
   "metadata": {
    "_cell_guid": "b1076dfc-b9ad-4769-8c92-a6c4dae69d19",
    "_uuid": "8f2839f25d086af736a60e9eeb907d3b93b6e0e5",
    "execution": {
     "iopub.execute_input": "2024-07-22T15:14:37.315969Z",
     "iopub.status.busy": "2024-07-22T15:14:37.315293Z",
     "iopub.status.idle": "2024-07-22T15:14:46.375105Z",
     "shell.execute_reply": "2024-07-22T15:14:46.374219Z"
    },
    "papermill": {
     "duration": 9.070231,
     "end_time": "2024-07-22T15:14:46.378104",
     "exception": false,
     "start_time": "2024-07-22T15:14:37.307873",
     "status": "completed"
    },
    "tags": []
   },
   "outputs": [],
   "source": [
    "import numpy as np\n",
    "import pandas as pd\n",
    "import matplotlib.pyplot as plt\n",
    "import seaborn as sns\n",
    "import warnings\n",
    "warnings.filterwarnings('ignore')\n",
    "from sklearn.preprocessing import StandardScaler\n",
    "from sklearn.preprocessing import MinMaxScaler\n",
    "from sklearn.preprocessing import LabelEncoder\n",
    "from sklearn.model_selection import train_test_split, cross_val_score, GridSearchCV\n",
    "from sklearn.svm import SVC\n",
    "from sklearn.ensemble import GradientBoostingClassifier\n",
    "from catboost import CatBoostClassifier\n",
    "from xgboost import XGBClassifier\n",
    "from lightgbm import LGBMClassifier\n",
    "from sklearn.metrics import roc_curve, auc, roc_auc_score\n",
    "from tqdm import tqdm\n",
    "import lightgbm as lgb\n",
    "import optuna\n",
    "from optuna import Trial\n",
    "from optuna.logging import set_verbosity, INFO\n",
    "from optuna.integration import XGBoostPruningCallback\n",
    "from lightgbm import early_stopping"
   ]
  },
  {
   "cell_type": "code",
   "execution_count": 3,
   "id": "3b68485f",
   "metadata": {
    "execution": {
     "iopub.execute_input": "2024-07-22T15:14:46.393961Z",
     "iopub.status.busy": "2024-07-22T15:14:46.393288Z",
     "iopub.status.idle": "2024-07-22T15:15:08.523163Z",
     "shell.execute_reply": "2024-07-22T15:15:08.522124Z"
    },
    "papermill": {
     "duration": 22.140401,
     "end_time": "2024-07-22T15:15:08.525845",
     "exception": false,
     "start_time": "2024-07-22T15:14:46.385444",
     "status": "completed"
    },
    "tags": []
   },
   "outputs": [],
   "source": [
    "train = pd.read_csv('/kaggle/input/playground-series-s4e7/train.csv')"
   ]
  },
  {
   "cell_type": "code",
   "execution_count": 4,
   "id": "962876c1",
   "metadata": {
    "execution": {
     "iopub.execute_input": "2024-07-22T15:15:08.541352Z",
     "iopub.status.busy": "2024-07-22T15:15:08.540967Z",
     "iopub.status.idle": "2024-07-22T15:15:09.264177Z",
     "shell.execute_reply": "2024-07-22T15:15:09.263337Z"
    },
    "papermill": {
     "duration": 0.733898,
     "end_time": "2024-07-22T15:15:09.266710",
     "exception": false,
     "start_time": "2024-07-22T15:15:08.532812",
     "status": "completed"
    },
    "tags": []
   },
   "outputs": [],
   "source": [
    "# id 열 삭제\n",
    "train = train.drop(['id'], axis = 1)"
   ]
  },
  {
   "cell_type": "code",
   "execution_count": 5,
   "id": "43650a92",
   "metadata": {
    "execution": {
     "iopub.execute_input": "2024-07-22T15:15:09.281845Z",
     "iopub.status.busy": "2024-07-22T15:15:09.281559Z",
     "iopub.status.idle": "2024-07-22T15:15:18.650410Z",
     "shell.execute_reply": "2024-07-22T15:15:18.649449Z"
    },
    "papermill": {
     "duration": 9.37884,
     "end_time": "2024-07-22T15:15:18.653015",
     "exception": false,
     "start_time": "2024-07-22T15:15:09.274175",
     "status": "completed"
    },
    "tags": []
   },
   "outputs": [],
   "source": [
    "# gender, vehicle_age, vehicle_damage 데이터 타입 변경 -> 라벨인코더로 통일\n",
    "label_encoder = LabelEncoder()\n",
    "cat=['Gender', 'Vehicle_Age', 'Vehicle_Damage']\n",
    "for column in cat:\n",
    "    train[column] = label_encoder.fit_transform(train[column])"
   ]
  },
  {
   "cell_type": "code",
   "execution_count": 6,
   "id": "3d18debb",
   "metadata": {
    "execution": {
     "iopub.execute_input": "2024-07-22T15:15:18.668545Z",
     "iopub.status.busy": "2024-07-22T15:15:18.667717Z",
     "iopub.status.idle": "2024-07-22T15:15:19.068629Z",
     "shell.execute_reply": "2024-07-22T15:15:19.067635Z"
    },
    "papermill": {
     "duration": 0.411014,
     "end_time": "2024-07-22T15:15:19.070934",
     "exception": false,
     "start_time": "2024-07-22T15:15:18.659920",
     "status": "completed"
    },
    "tags": []
   },
   "outputs": [],
   "source": [
    "# Age 범주형 변경\n",
    "\n",
    "# 구간 설정\n",
    "bins = [20, 25, 30, 35, 40, 45, 50, 55, 60, 65, 70, 75, 80, float('inf')]\n",
    "\n",
    "# 각 구간에 대한 라벨 설정\n",
    "labels = ['0', '1', '2', '3', '4', '5', '6', '7', '8', '9', '10', '11', '12']\n",
    "\n",
    "# Age 열을 범주형 변수로 변환\n",
    "train['AgeGroup'] = pd.cut(train['Age'], bins=bins, labels=labels, right=False)"
   ]
  },
  {
   "cell_type": "code",
   "execution_count": 7,
   "id": "60c3e3ed",
   "metadata": {
    "execution": {
     "iopub.execute_input": "2024-07-22T15:15:19.085263Z",
     "iopub.status.busy": "2024-07-22T15:15:19.084931Z",
     "iopub.status.idle": "2024-07-22T15:15:19.427844Z",
     "shell.execute_reply": "2024-07-22T15:15:19.426819Z"
    },
    "papermill": {
     "duration": 0.352935,
     "end_time": "2024-07-22T15:15:19.430571",
     "exception": false,
     "start_time": "2024-07-22T15:15:19.077636",
     "status": "completed"
    },
    "tags": []
   },
   "outputs": [],
   "source": [
    "# Age 열 삭제\n",
    "train = train.drop(['Age'], axis = 1)"
   ]
  },
  {
   "cell_type": "code",
   "execution_count": 8,
   "id": "d13c7f71",
   "metadata": {
    "execution": {
     "iopub.execute_input": "2024-07-22T15:15:19.444943Z",
     "iopub.status.busy": "2024-07-22T15:15:19.444385Z",
     "iopub.status.idle": "2024-07-22T15:15:20.419366Z",
     "shell.execute_reply": "2024-07-22T15:15:20.418444Z"
    },
    "papermill": {
     "duration": 0.984018,
     "end_time": "2024-07-22T15:15:20.421325",
     "exception": false,
     "start_time": "2024-07-22T15:15:19.437307",
     "status": "completed"
    },
    "tags": []
   },
   "outputs": [
    {
     "data": {
      "text/plain": [
       "(9127525, 11)"
      ]
     },
     "execution_count": 8,
     "metadata": {},
     "output_type": "execute_result"
    }
   ],
   "source": [
    "# IQR을 이용하여 이상치 제거\n",
    "Q1 = train['Annual_Premium'].quantile(0.25)\n",
    "Q3 = train['Annual_Premium'].quantile(0.75)\n",
    "IQR = Q3 - Q1\n",
    "\n",
    "lower_bound = Q1 - 1.5 * IQR\n",
    "upper_bound = Q3 + 1.5 * IQR\n",
    "\n",
    "# 이상치가 있는 행 제거\n",
    "deleted_train = train[(train['Annual_Premium'] >= lower_bound) & (train['Annual_Premium'] <= upper_bound)]\n",
    "\n",
    "deleted_train.shape"
   ]
  },
  {
   "cell_type": "code",
   "execution_count": 9,
   "id": "6379b182",
   "metadata": {
    "execution": {
     "iopub.execute_input": "2024-07-22T15:15:20.435669Z",
     "iopub.status.busy": "2024-07-22T15:15:20.435329Z",
     "iopub.status.idle": "2024-07-22T15:15:21.115377Z",
     "shell.execute_reply": "2024-07-22T15:15:21.114448Z"
    },
    "papermill": {
     "duration": 0.689842,
     "end_time": "2024-07-22T15:15:21.117823",
     "exception": false,
     "start_time": "2024-07-22T15:15:20.427981",
     "status": "completed"
    },
    "tags": []
   },
   "outputs": [
    {
     "data": {
      "text/html": [
       "<div>\n",
       "<style scoped>\n",
       "    .dataframe tbody tr th:only-of-type {\n",
       "        vertical-align: middle;\n",
       "    }\n",
       "\n",
       "    .dataframe tbody tr th {\n",
       "        vertical-align: top;\n",
       "    }\n",
       "\n",
       "    .dataframe thead th {\n",
       "        text-align: right;\n",
       "    }\n",
       "</style>\n",
       "<table border=\"1\" class=\"dataframe\">\n",
       "  <thead>\n",
       "    <tr style=\"text-align: right;\">\n",
       "      <th></th>\n",
       "      <th>Gender</th>\n",
       "      <th>Driving_License</th>\n",
       "      <th>Region_Code</th>\n",
       "      <th>Previously_Insured</th>\n",
       "      <th>Vehicle_Age</th>\n",
       "      <th>Vehicle_Damage</th>\n",
       "      <th>Annual_Premium</th>\n",
       "      <th>Policy_Sales_Channel</th>\n",
       "      <th>Vintage</th>\n",
       "      <th>Response</th>\n",
       "      <th>AgeGroup</th>\n",
       "    </tr>\n",
       "  </thead>\n",
       "  <tbody>\n",
       "    <tr>\n",
       "      <th>1</th>\n",
       "      <td>1</td>\n",
       "      <td>1</td>\n",
       "      <td>0.538462</td>\n",
       "      <td>0</td>\n",
       "      <td>2</td>\n",
       "      <td>1</td>\n",
       "      <td>0.968248</td>\n",
       "      <td>0.154321</td>\n",
       "      <td>0.961938</td>\n",
       "      <td>1</td>\n",
       "      <td>4</td>\n",
       "    </tr>\n",
       "    <tr>\n",
       "      <th>2</th>\n",
       "      <td>0</td>\n",
       "      <td>1</td>\n",
       "      <td>0.269231</td>\n",
       "      <td>1</td>\n",
       "      <td>1</td>\n",
       "      <td>0</td>\n",
       "      <td>0.600141</td>\n",
       "      <td>0.932099</td>\n",
       "      <td>0.844291</td>\n",
       "      <td>0</td>\n",
       "      <td>1</td>\n",
       "    </tr>\n",
       "    <tr>\n",
       "      <th>4</th>\n",
       "      <td>0</td>\n",
       "      <td>1</td>\n",
       "      <td>0.288462</td>\n",
       "      <td>1</td>\n",
       "      <td>0</td>\n",
       "      <td>0</td>\n",
       "      <td>0.492679</td>\n",
       "      <td>0.932099</td>\n",
       "      <td>0.982699</td>\n",
       "      <td>0</td>\n",
       "      <td>3</td>\n",
       "    </tr>\n",
       "    <tr>\n",
       "      <th>5</th>\n",
       "      <td>0</td>\n",
       "      <td>1</td>\n",
       "      <td>0.903846</td>\n",
       "      <td>1</td>\n",
       "      <td>1</td>\n",
       "      <td>0</td>\n",
       "      <td>0.425631</td>\n",
       "      <td>0.932099</td>\n",
       "      <td>0.647059</td>\n",
       "      <td>0</td>\n",
       "      <td>2</td>\n",
       "    </tr>\n",
       "    <tr>\n",
       "      <th>6</th>\n",
       "      <td>1</td>\n",
       "      <td>1</td>\n",
       "      <td>0.865385</td>\n",
       "      <td>1</td>\n",
       "      <td>1</td>\n",
       "      <td>0</td>\n",
       "      <td>0.407603</td>\n",
       "      <td>0.932099</td>\n",
       "      <td>0.622837</td>\n",
       "      <td>0</td>\n",
       "      <td>0</td>\n",
       "    </tr>\n",
       "  </tbody>\n",
       "</table>\n",
       "</div>"
      ],
      "text/plain": [
       "   Gender  Driving_License  Region_Code  Previously_Insured  Vehicle_Age  \\\n",
       "1       1                1     0.538462                   0            2   \n",
       "2       0                1     0.269231                   1            1   \n",
       "4       0                1     0.288462                   1            0   \n",
       "5       0                1     0.903846                   1            1   \n",
       "6       1                1     0.865385                   1            1   \n",
       "\n",
       "   Vehicle_Damage  Annual_Premium  Policy_Sales_Channel   Vintage  Response  \\\n",
       "1               1        0.968248              0.154321  0.961938         1   \n",
       "2               0        0.600141              0.932099  0.844291         0   \n",
       "4               0        0.492679              0.932099  0.982699         0   \n",
       "5               0        0.425631              0.932099  0.647059         0   \n",
       "6               0        0.407603              0.932099  0.622837         0   \n",
       "\n",
       "  AgeGroup  \n",
       "1        4  \n",
       "2        1  \n",
       "4        3  \n",
       "5        2  \n",
       "6        0  "
      ]
     },
     "execution_count": 9,
     "metadata": {},
     "output_type": "execute_result"
    }
   ],
   "source": [
    "# min_max_scaler\n",
    "numerical = ['Region_Code', 'Annual_Premium', 'Policy_Sales_Channel', 'Vintage']\n",
    "scaler = MinMaxScaler()\n",
    "deleted_train[numerical] = scaler.fit_transform(deleted_train[numerical])\n",
    "deleted_train.head()"
   ]
  },
  {
   "cell_type": "code",
   "execution_count": 10,
   "id": "3b8fc011",
   "metadata": {
    "execution": {
     "iopub.execute_input": "2024-07-22T15:15:21.133564Z",
     "iopub.status.busy": "2024-07-22T15:15:21.133251Z",
     "iopub.status.idle": "2024-07-22T15:15:21.137200Z",
     "shell.execute_reply": "2024-07-22T15:15:21.136370Z"
    },
    "papermill": {
     "duration": 0.013909,
     "end_time": "2024-07-22T15:15:21.139202",
     "exception": false,
     "start_time": "2024-07-22T15:15:21.125293",
     "status": "completed"
    },
    "tags": []
   },
   "outputs": [],
   "source": [
    "df = train"
   ]
  },
  {
   "cell_type": "code",
   "execution_count": 11,
   "id": "628fc2e2",
   "metadata": {
    "execution": {
     "iopub.execute_input": "2024-07-22T15:15:21.153734Z",
     "iopub.status.busy": "2024-07-22T15:15:21.153046Z",
     "iopub.status.idle": "2024-07-22T15:15:21.466057Z",
     "shell.execute_reply": "2024-07-22T15:15:21.465027Z"
    },
    "papermill": {
     "duration": 0.322813,
     "end_time": "2024-07-22T15:15:21.468561",
     "exception": false,
     "start_time": "2024-07-22T15:15:21.145748",
     "status": "completed"
    },
    "tags": []
   },
   "outputs": [],
   "source": [
    "# X, y 데이터\n",
    "X = df.drop('Response', axis = 1)\n",
    "y = df['Response']"
   ]
  },
  {
   "cell_type": "code",
   "execution_count": 12,
   "id": "9661752c",
   "metadata": {
    "execution": {
     "iopub.execute_input": "2024-07-22T15:15:21.483535Z",
     "iopub.status.busy": "2024-07-22T15:15:21.483210Z",
     "iopub.status.idle": "2024-07-22T15:15:24.109378Z",
     "shell.execute_reply": "2024-07-22T15:15:24.108618Z"
    },
    "papermill": {
     "duration": 2.636227,
     "end_time": "2024-07-22T15:15:24.111701",
     "exception": false,
     "start_time": "2024-07-22T15:15:21.475474",
     "status": "completed"
    },
    "tags": []
   },
   "outputs": [],
   "source": [
    "# 데이터 분할\n",
    "X_train, X_test, y_train, y_test = train_test_split(X, y, test_size=0.2, random_state=42)"
   ]
  },
  {
   "cell_type": "code",
   "execution_count": 13,
   "id": "62688f5a",
   "metadata": {
    "execution": {
     "iopub.execute_input": "2024-07-22T15:15:24.127357Z",
     "iopub.status.busy": "2024-07-22T15:15:24.127066Z",
     "iopub.status.idle": "2024-07-22T15:15:57.862834Z",
     "shell.execute_reply": "2024-07-22T15:15:57.862045Z"
    },
    "papermill": {
     "duration": 33.745755,
     "end_time": "2024-07-22T15:15:57.865323",
     "exception": false,
     "start_time": "2024-07-22T15:15:24.119568",
     "status": "completed"
    },
    "tags": []
   },
   "outputs": [],
   "source": [
    "# 데이터 표준화 (minmaxscaler)\n",
    "scaler = MinMaxScaler()\n",
    "X_train = scaler.fit_transform(X_train)\n",
    "X_test = scaler.transform(X_test)"
   ]
  },
  {
   "cell_type": "code",
   "execution_count": 14,
   "id": "5f9ada5c",
   "metadata": {
    "execution": {
     "iopub.execute_input": "2024-07-22T15:15:57.880317Z",
     "iopub.status.busy": "2024-07-22T15:15:57.880027Z",
     "iopub.status.idle": "2024-07-22T15:15:57.885128Z",
     "shell.execute_reply": "2024-07-22T15:15:57.884339Z"
    },
    "papermill": {
     "duration": 0.014638,
     "end_time": "2024-07-22T15:15:57.886910",
     "exception": false,
     "start_time": "2024-07-22T15:15:57.872272",
     "status": "completed"
    },
    "tags": []
   },
   "outputs": [],
   "source": [
    "params = {\n",
    "    'lambda_l1': 3.111893931999387e-05,\n",
    "    'lambda_l2': 5.1187331713238715e-06,\n",
    "    'num_leaves': 119,\n",
    "    'feature_fraction': 0.3404466623446993,\n",
    "    'bagging_fraction': 0.9487585809243285,\n",
    "    'bagging_freq': 2,\n",
    "    'min_child_samples': 70,\n",
    "    'learning_rate': 0.02817637192423954,\n",
    "    'objective' : 'binary',\n",
    "    'metric' : 'auc',\n",
    "    'verbosity' : -1,\n",
    "    'boosting_type' : 'gbdt'\n",
    "}"
   ]
  },
  {
   "cell_type": "code",
   "execution_count": 15,
   "id": "e8568dc7",
   "metadata": {
    "execution": {
     "iopub.execute_input": "2024-07-22T15:15:57.902099Z",
     "iopub.status.busy": "2024-07-22T15:15:57.901286Z",
     "iopub.status.idle": "2024-07-22T15:15:57.905181Z",
     "shell.execute_reply": "2024-07-22T15:15:57.904511Z"
    },
    "papermill": {
     "duration": 0.013386,
     "end_time": "2024-07-22T15:15:57.907083",
     "exception": false,
     "start_time": "2024-07-22T15:15:57.893697",
     "status": "completed"
    },
    "tags": []
   },
   "outputs": [],
   "source": [
    "# 모델 학습\n",
    "model = lgb.LGBMClassifier(**params)"
   ]
  },
  {
   "cell_type": "code",
   "execution_count": 16,
   "id": "c3c9e9bf",
   "metadata": {
    "execution": {
     "iopub.execute_input": "2024-07-22T15:15:57.923051Z",
     "iopub.status.busy": "2024-07-22T15:15:57.922754Z",
     "iopub.status.idle": "2024-07-22T15:18:43.281232Z",
     "shell.execute_reply": "2024-07-22T15:18:43.280204Z"
    },
    "papermill": {
     "duration": 165.375707,
     "end_time": "2024-07-22T15:18:43.290285",
     "exception": false,
     "start_time": "2024-07-22T15:15:57.914578",
     "status": "completed"
    },
    "tags": []
   },
   "outputs": [
    {
     "data": {
      "text/html": [
       "<style>#sk-container-id-1 {color: black;background-color: white;}#sk-container-id-1 pre{padding: 0;}#sk-container-id-1 div.sk-toggleable {background-color: white;}#sk-container-id-1 label.sk-toggleable__label {cursor: pointer;display: block;width: 100%;margin-bottom: 0;padding: 0.3em;box-sizing: border-box;text-align: center;}#sk-container-id-1 label.sk-toggleable__label-arrow:before {content: \"▸\";float: left;margin-right: 0.25em;color: #696969;}#sk-container-id-1 label.sk-toggleable__label-arrow:hover:before {color: black;}#sk-container-id-1 div.sk-estimator:hover label.sk-toggleable__label-arrow:before {color: black;}#sk-container-id-1 div.sk-toggleable__content {max-height: 0;max-width: 0;overflow: hidden;text-align: left;background-color: #f0f8ff;}#sk-container-id-1 div.sk-toggleable__content pre {margin: 0.2em;color: black;border-radius: 0.25em;background-color: #f0f8ff;}#sk-container-id-1 input.sk-toggleable__control:checked~div.sk-toggleable__content {max-height: 200px;max-width: 100%;overflow: auto;}#sk-container-id-1 input.sk-toggleable__control:checked~label.sk-toggleable__label-arrow:before {content: \"▾\";}#sk-container-id-1 div.sk-estimator input.sk-toggleable__control:checked~label.sk-toggleable__label {background-color: #d4ebff;}#sk-container-id-1 div.sk-label input.sk-toggleable__control:checked~label.sk-toggleable__label {background-color: #d4ebff;}#sk-container-id-1 input.sk-hidden--visually {border: 0;clip: rect(1px 1px 1px 1px);clip: rect(1px, 1px, 1px, 1px);height: 1px;margin: -1px;overflow: hidden;padding: 0;position: absolute;width: 1px;}#sk-container-id-1 div.sk-estimator {font-family: monospace;background-color: #f0f8ff;border: 1px dotted black;border-radius: 0.25em;box-sizing: border-box;margin-bottom: 0.5em;}#sk-container-id-1 div.sk-estimator:hover {background-color: #d4ebff;}#sk-container-id-1 div.sk-parallel-item::after {content: \"\";width: 100%;border-bottom: 1px solid gray;flex-grow: 1;}#sk-container-id-1 div.sk-label:hover label.sk-toggleable__label {background-color: #d4ebff;}#sk-container-id-1 div.sk-serial::before {content: \"\";position: absolute;border-left: 1px solid gray;box-sizing: border-box;top: 0;bottom: 0;left: 50%;z-index: 0;}#sk-container-id-1 div.sk-serial {display: flex;flex-direction: column;align-items: center;background-color: white;padding-right: 0.2em;padding-left: 0.2em;position: relative;}#sk-container-id-1 div.sk-item {position: relative;z-index: 1;}#sk-container-id-1 div.sk-parallel {display: flex;align-items: stretch;justify-content: center;background-color: white;position: relative;}#sk-container-id-1 div.sk-item::before, #sk-container-id-1 div.sk-parallel-item::before {content: \"\";position: absolute;border-left: 1px solid gray;box-sizing: border-box;top: 0;bottom: 0;left: 50%;z-index: -1;}#sk-container-id-1 div.sk-parallel-item {display: flex;flex-direction: column;z-index: 1;position: relative;background-color: white;}#sk-container-id-1 div.sk-parallel-item:first-child::after {align-self: flex-end;width: 50%;}#sk-container-id-1 div.sk-parallel-item:last-child::after {align-self: flex-start;width: 50%;}#sk-container-id-1 div.sk-parallel-item:only-child::after {width: 0;}#sk-container-id-1 div.sk-dashed-wrapped {border: 1px dashed gray;margin: 0 0.4em 0.5em 0.4em;box-sizing: border-box;padding-bottom: 0.4em;background-color: white;}#sk-container-id-1 div.sk-label label {font-family: monospace;font-weight: bold;display: inline-block;line-height: 1.2em;}#sk-container-id-1 div.sk-label-container {text-align: center;}#sk-container-id-1 div.sk-container {/* jupyter's `normalize.less` sets `[hidden] { display: none; }` but bootstrap.min.css set `[hidden] { display: none !important; }` so we also need the `!important` here to be able to override the default hidden behavior on the sphinx rendered scikit-learn.org. See: https://github.com/scikit-learn/scikit-learn/issues/21755 */display: inline-block !important;position: relative;}#sk-container-id-1 div.sk-text-repr-fallback {display: none;}</style><div id=\"sk-container-id-1\" class=\"sk-top-container\"><div class=\"sk-text-repr-fallback\"><pre>LGBMClassifier(bagging_fraction=0.9487585809243285, bagging_freq=2,\n",
       "               feature_fraction=0.3404466623446993,\n",
       "               lambda_l1=3.111893931999387e-05,\n",
       "               lambda_l2=5.1187331713238715e-06,\n",
       "               learning_rate=0.02817637192423954, metric=&#x27;auc&#x27;,\n",
       "               min_child_samples=70, num_leaves=119, objective=&#x27;binary&#x27;,\n",
       "               verbosity=-1)</pre><b>In a Jupyter environment, please rerun this cell to show the HTML representation or trust the notebook. <br />On GitHub, the HTML representation is unable to render, please try loading this page with nbviewer.org.</b></div><div class=\"sk-container\" hidden><div class=\"sk-item\"><div class=\"sk-estimator sk-toggleable\"><input class=\"sk-toggleable__control sk-hidden--visually\" id=\"sk-estimator-id-1\" type=\"checkbox\" checked><label for=\"sk-estimator-id-1\" class=\"sk-toggleable__label sk-toggleable__label-arrow\">LGBMClassifier</label><div class=\"sk-toggleable__content\"><pre>LGBMClassifier(bagging_fraction=0.9487585809243285, bagging_freq=2,\n",
       "               feature_fraction=0.3404466623446993,\n",
       "               lambda_l1=3.111893931999387e-05,\n",
       "               lambda_l2=5.1187331713238715e-06,\n",
       "               learning_rate=0.02817637192423954, metric=&#x27;auc&#x27;,\n",
       "               min_child_samples=70, num_leaves=119, objective=&#x27;binary&#x27;,\n",
       "               verbosity=-1)</pre></div></div></div></div></div>"
      ],
      "text/plain": [
       "LGBMClassifier(bagging_fraction=0.9487585809243285, bagging_freq=2,\n",
       "               feature_fraction=0.3404466623446993,\n",
       "               lambda_l1=3.111893931999387e-05,\n",
       "               lambda_l2=5.1187331713238715e-06,\n",
       "               learning_rate=0.02817637192423954, metric='auc',\n",
       "               min_child_samples=70, num_leaves=119, objective='binary',\n",
       "               verbosity=-1)"
      ]
     },
     "execution_count": 16,
     "metadata": {},
     "output_type": "execute_result"
    }
   ],
   "source": [
    "model.fit(X_train, y_train, eval_set=[(X_test, y_test)])"
   ]
  },
  {
   "cell_type": "code",
   "execution_count": 17,
   "id": "efdcc562",
   "metadata": {
    "execution": {
     "iopub.execute_input": "2024-07-22T15:18:43.305322Z",
     "iopub.status.busy": "2024-07-22T15:18:43.305046Z",
     "iopub.status.idle": "2024-07-22T15:18:55.463309Z",
     "shell.execute_reply": "2024-07-22T15:18:55.462176Z"
    },
    "papermill": {
     "duration": 12.168585,
     "end_time": "2024-07-22T15:18:55.465902",
     "exception": false,
     "start_time": "2024-07-22T15:18:43.297317",
     "status": "completed"
    },
    "tags": []
   },
   "outputs": [],
   "source": [
    "y_pred = model.predict_proba(X_test)[:, 1]\n",
    "roc_auc = roc_auc_score(y_test, y_pred)"
   ]
  },
  {
   "cell_type": "code",
   "execution_count": 18,
   "id": "d48be256",
   "metadata": {
    "execution": {
     "iopub.execute_input": "2024-07-22T15:18:55.482896Z",
     "iopub.status.busy": "2024-07-22T15:18:55.482258Z",
     "iopub.status.idle": "2024-07-22T15:18:55.487031Z",
     "shell.execute_reply": "2024-07-22T15:18:55.486122Z"
    },
    "papermill": {
     "duration": 0.016107,
     "end_time": "2024-07-22T15:18:55.489773",
     "exception": false,
     "start_time": "2024-07-22T15:18:55.473666",
     "status": "completed"
    },
    "tags": []
   },
   "outputs": [
    {
     "name": "stdout",
     "output_type": "stream",
     "text": [
      "0.871204275277996\n"
     ]
    }
   ],
   "source": [
    "print(roc_auc)"
   ]
  }
 ],
 "metadata": {
  "kaggle": {
   "accelerator": "nvidiaTeslaT4",
   "dataSources": [
    {
     "databundleVersionId": 8930475,
     "sourceId": 73291,
     "sourceType": "competition"
    }
   ],
   "dockerImageVersionId": 30747,
   "isGpuEnabled": true,
   "isInternetEnabled": true,
   "language": "python",
   "sourceType": "notebook"
  },
  "kernelspec": {
   "display_name": "Python 3",
   "language": "python",
   "name": "python3"
  },
  "language_info": {
   "codemirror_mode": {
    "name": "ipython",
    "version": 3
   },
   "file_extension": ".py",
   "mimetype": "text/x-python",
   "name": "python",
   "nbconvert_exporter": "python",
   "pygments_lexer": "ipython3",
   "version": "3.10.13"
  },
  "papermill": {
   "default_parameters": {},
   "duration": 279.025447,
   "end_time": "2024-07-22T15:18:56.317931",
   "environment_variables": {},
   "exception": null,
   "input_path": "__notebook__.ipynb",
   "output_path": "__notebook__.ipynb",
   "parameters": {},
   "start_time": "2024-07-22T15:14:17.292484",
   "version": "2.5.0"
  }
 },
 "nbformat": 4,
 "nbformat_minor": 5
}
